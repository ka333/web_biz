{
 "cells": [
  {
   "cell_type": "code",
   "execution_count": 1,
   "metadata": {
    "collapsed": false
   },
   "outputs": [
    {
     "data": {
      "text/plain": [
       "Timestamp('2017-06-02 00:00:00')"
      ]
     },
     "execution_count": 1,
     "metadata": {},
     "output_type": "execute_result"
    }
   ],
   "source": [
    "import urllib.request\n",
    "from bs4 import BeautifulSoup\n",
    "import pandas as pd\n",
    "import datetime\n",
    "\n",
    "now = datetime.datetime.today()\n",
    "\n",
    "\n",
    "#url = \"https://www.tokyo-dome.co.jp/dome/schedule/\"\n",
    "year =str(now.year)\n",
    "month = str(now.month)\n",
    "url = \"https://www.tokyo-dome.co.jp/dome/schedule/?y=\"+year+\"&m=\"+month\n",
    "response = urllib.request.urlopen(url)\n",
    "dome= response.read().decode(\"utf-8\")\n",
    "\n",
    "soup2 = BeautifulSoup(dome, 'html.parser')\n",
    "time_table = soup2.find(\"table\", attrs = {\"class\": \"info_table\"})\n",
    "date = time_table.find_all(\"th\",scope=\"row\",rowspan=\"1\")\n",
    "event = time_table.find_all(\"p\",class_=lambda x: x!= \"img_left\" and x != \"bn\")\n",
    "date_time = []\n",
    "for i in date:\n",
    "    date_time.append(year+\"-\"+month+\"-\"+i.text.replace(\"\\n\",\"\").replace(\"\\t\",\"\")[0:-4])\n",
    "event_name=[]\n",
    "event\n",
    "for i in event:\n",
    "    event_name.append(i.text.replace(\"\\n\",\"\").replace(\"\\t\",\"\"))\n",
    "    \n",
    "time = time_table.find_all(\"td\",class_=lambda x: x!= \"txt_left\")\n",
    "info3 = []\n",
    "info4 = []\n",
    "a = 0\n",
    "for i in time:\n",
    "    if a % 2 == 0:\n",
    "        info3.append(i.text.replace(\"\\xa0\",\" \"))\n",
    "    if a %2 == 1:\n",
    "        info4.append(i.text.replace(\"\\xa0\",\" \"))\n",
    "    a += 1\n",
    "while \" \" in info3:\n",
    "    info3.remove(\" \")\n",
    "open_time = info3\n",
    "while \" \" in info4:\n",
    "    info4.remove(\" \")\n",
    "close_time = info4\n",
    "open_time,close_time\n",
    "\n",
    "\n",
    "d = pd.DataFrame(date_time)\n",
    "e = pd.DataFrame(event_name)\n",
    "o = pd.DataFrame(open_time)\n",
    "c = pd.DataFrame(close_time)\n",
    "schedule = pd.concat([d,e,o,c],axis = 1)\n",
    "schedule.columns = [\"日付\",\"イベント名\",\"開始時間\",\"終了時間\"]\n",
    "schedule\n",
    "#schedule.to_csv(\"schedule.csv\",encoding=\"utf-8\")\n",
    "#schedule.to_csv(\"employee.txt\", sep=\",\")\n",
    "pd.to_datetime(schedule.loc[0][0])"
   ]
  },
  {
   "cell_type": "code",
   "execution_count": null,
   "metadata": {
    "collapsed": true
   },
   "outputs": [],
   "source": []
  }
 ],
 "metadata": {
  "anaconda-cloud": {},
  "kernelspec": {
   "display_name": "Python [default]",
   "language": "python",
   "name": "python3"
  },
  "language_info": {
   "codemirror_mode": {
    "name": "ipython",
    "version": 3
   },
   "file_extension": ".py",
   "mimetype": "text/x-python",
   "name": "python",
   "nbconvert_exporter": "python",
   "pygments_lexer": "ipython3",
   "version": "3.5.2"
  }
 },
 "nbformat": 4,
 "nbformat_minor": 1
}
